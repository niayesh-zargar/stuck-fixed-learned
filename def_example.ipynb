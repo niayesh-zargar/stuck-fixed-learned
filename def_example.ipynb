{
 "cells": [
  {
   "cell_type": "markdown",
   "id": "15006439",
   "metadata": {},
   "source": [
    "I want to receive two numbers from the user and print the result + and * and - as output and display them in a dict format."
   ]
  },
  {
   "cell_type": "code",
   "execution_count": 1,
   "id": "05f1f311",
   "metadata": {},
   "outputs": [
    {
     "name": "stdout",
     "output_type": "stream",
     "text": [
      "{'Sum': 14, 'Subtract': 10, 'Multiplication': 24}\n"
     ]
    }
   ],
   "source": [
    "def calculate():\n",
    "    x = int(input(\"Enter your first number: \"))\n",
    "    y = int(input(\"Enter your second number: \"))\n",
    "    \n",
    "    result = {}\n",
    "    result.update({ \"Sum\": x+y, 'Subtract': x-y, \"Multiplication\":x*y })\n",
    "    return result\n",
    "\n",
    "print(calculate())"
   ]
  },
  {
   "cell_type": "markdown",
   "id": "eb20254e",
   "metadata": {},
   "source": [
    "I want to show what numbers the user enters and display them, and then print the result."
   ]
  },
  {
   "cell_type": "code",
   "execution_count": 2,
   "id": "2391b060",
   "metadata": {},
   "outputs": [
    {
     "name": "stdout",
     "output_type": "stream",
     "text": [
      "('Your first number is 1 and second one is 2', {'Sum': 3, 'Subtract': -1, 'Multiplication': 2})\n"
     ]
    }
   ],
   "source": [
    "def calculate():\n",
    "    x = int(input(\"Enter your first number: \"))\n",
    "    y = int(input(\"Enter your second number: \"))\n",
    "    \n",
    "    result = {}\n",
    "    result.update({ \"Sum\": x+y, 'Subtract': x-y, \"Multiplication\":x*y })\n",
    "    msg = f\"Your first number is {x} and second one is {y}\"\n",
    "    return msg,result\n",
    "\n",
    "print(calculate())"
   ]
  },
  {
   "cell_type": "markdown",
   "id": "db6a0e79",
   "metadata": {},
   "source": [
    "I think that what i want to show is something like print =>\n",
    "\"...\",{} but when i do this format i seen that it shown in a tuple so this is not thing that i want\n"
   ]
  },
  {
   "cell_type": "markdown",
   "id": "0ddb9a04",
   "metadata": {},
   "source": [
    "and add some point that i want that the function use input in itself and shows with return."
   ]
  },
  {
   "cell_type": "markdown",
   "id": "1ec11105",
   "metadata": {},
   "source": [
    "I want to try another way."
   ]
  },
  {
   "cell_type": "code",
   "execution_count": 8,
   "id": "ef66c2ba",
   "metadata": {},
   "outputs": [
    {
     "name": "stdout",
     "output_type": "stream",
     "text": [
      "Your first number is 12 and second one is 2 "
     ]
    },
    {
     "data": {
      "text/plain": [
       "{'Sum': 14, 'Subtract': 10, 'Multiplication': 24}"
      ]
     },
     "execution_count": 8,
     "metadata": {},
     "output_type": "execute_result"
    }
   ],
   "source": [
    "def calculate():\n",
    "    x = int(input(\"Enter your first number: \"))\n",
    "    y = int(input(\"Enter your second number: \"))\n",
    "    \n",
    "    result = {}\n",
    "    result.update({ \"Sum\": x+y, 'Subtract': x-y, \"Multiplication\":x*y })\n",
    "    print(f\"Your first number is {x} and second one is {y}\",end=\" \")\n",
    "    return result\n",
    "\n",
    "calculate()"
   ]
  },
  {
   "cell_type": "markdown",
   "id": "c689a667",
   "metadata": {},
   "source": [
    "This way has a ugly effectat i want that the line in between isn't there ...🤔"
   ]
  }
 ],
 "metadata": {
  "kernelspec": {
   "display_name": "Python 3",
   "language": "python",
   "name": "python3"
  },
  "language_info": {
   "codemirror_mode": {
    "name": "ipython",
    "version": 3
   },
   "file_extension": ".py",
   "mimetype": "text/x-python",
   "name": "python",
   "nbconvert_exporter": "python",
   "pygments_lexer": "ipython3",
   "version": "3.13.5"
  }
 },
 "nbformat": 4,
 "nbformat_minor": 5
}
