{
 "cells": [
  {
   "cell_type": "markdown",
   "id": "15006439",
   "metadata": {},
   "source": [
    "I want to receive two numbers from the user and print the result + and * and - as output and display them in a dict format."
   ]
  },
  {
   "cell_type": "code",
   "execution_count": 1,
   "id": "05f1f311",
   "metadata": {},
   "outputs": [
    {
     "name": "stdout",
     "output_type": "stream",
     "text": [
      "{'Sum': 14, 'Subtract': 10, 'Multiplication': 24}\n"
     ]
    }
   ],
   "source": [
    "def calculate():\n",
    "    x = int(input(\"Enter your first number: \"))\n",
    "    y = int(input(\"Enter your second number: \"))\n",
    "    \n",
    "    result = {}\n",
    "    result.update({ \"Sum\": x+y, 'Subtract': x-y, \"Multiplication\":x*y })\n",
    "    return result\n",
    "\n",
    "print(calculate())"
   ]
  }
 ],
 "metadata": {
  "kernelspec": {
   "display_name": "Python 3",
   "language": "python",
   "name": "python3"
  },
  "language_info": {
   "codemirror_mode": {
    "name": "ipython",
    "version": 3
   },
   "file_extension": ".py",
   "mimetype": "text/x-python",
   "name": "python",
   "nbconvert_exporter": "python",
   "pygments_lexer": "ipython3",
   "version": "3.13.5"
  }
 },
 "nbformat": 4,
 "nbformat_minor": 5
}
